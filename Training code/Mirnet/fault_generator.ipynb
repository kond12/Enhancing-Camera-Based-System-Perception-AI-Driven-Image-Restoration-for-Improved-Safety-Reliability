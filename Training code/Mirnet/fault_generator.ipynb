{
 "cells": [
  {
   "cell_type": "code",
   "execution_count": 1,
   "id": "5d4cf109",
   "metadata": {},
   "outputs": [
    {
     "name": "stdout",
     "output_type": "stream",
     "text": [
      "Cuda not available\n"
     ]
    }
   ],
   "source": [
    "import torch\n",
    "use_cuda = torch.cuda.is_available()\n",
    "if use_cuda:\n",
    "    print('__CUDNN VERSION:', torch.backends.cudnn.version())\n",
    "    print('__Number CUDA Devices:', torch.cuda.device_count())\n",
    "    print('__CUDA Device Name:',torch.cuda.get_device_name(0))\n",
    "    print('__CUDA Device Total Memory [GB]:',torch.cuda.get_device_properties(0).total_memory/1e9)\n",
    "else:\n",
    "    print('Cuda not available')"
   ]
  },
  {
   "cell_type": "code",
   "execution_count": null,
   "id": "d9b66fb3",
   "metadata": {},
   "outputs": [],
   "source": []
  },
  {
   "cell_type": "code",
   "execution_count": null,
   "id": "f6863b9a",
   "metadata": {},
   "outputs": [],
   "source": []
  },
  {
   "cell_type": "code",
   "execution_count": 19,
   "id": "8dabfab9",
   "metadata": {},
   "outputs": [],
   "source": [
    "from FaultsClass import *\n",
    "import glob\n",
    "import fnmatch\n",
    "import os\n",
    "import pandas as pd\n",
    "os.environ['KMP_DUPLICATE_LIB_OK'] = 'True'\n",
    "\n",
    "source_path = 'C:/Users/Student/Desktop/Konduri/s/'    # specifying the path for accessing the data\n",
    "current_path = os.getcwd()   # specifying the current path for saving the data\n",
    "output_path = '/MainDataset'   # generate folder to save output date in it\n",
    "\n",
    "ext = 'jpg' # image extension, for different extension like png this should modified\n",
    "faults = ['Blur', 'Rain', 'SpeckleNoise'] # list of fault will be generated, each in its folder\n",
    "intensity = ['l', 'm', 'e']   # list of intensity will be generated, each for each fault folders\n",
    "seperator = '_'  # used in saving image with name contains '_' as seperator for image name, fault type and intensiy information\n",
    "\n",
    "fields = ['id', 'fault type', 'intensity', 'c_Path', 'f_Path'] # header (the first row) of the csv file\n",
    "\n",
    "def countImagesInFolder(path, ext = ext):\n",
    "    print('found ',len(fnmatch.filter(os.listdir(path), '*.'+ ext)), 'file(s) with the extenstion \".{}\"'.format(ext),'\\n')\n",
    "    \n",
    "def createDirectory(folder_name, path = os.getcwd()):\n",
    "    folder_path = path +'/'+ folder_name\n",
    "    # Check whether the specified path exists or not\n",
    "    isExist = os.path.exists(folder_path)\n",
    "    if not isExist:\n",
    "        # Create a new directory because it does not exist\n",
    "        os.makedirs(folder_path)\n",
    "        print(\"The new directory \"+ folder_name +\" is created!\")\n",
    "    else:\n",
    "        print(\"The directory \"+ folder_name +\" is already EXIST!\",'Data in folder may get replaced')        \n",
    "    \n",
    "def createFolders(faults_list, intensity_list, output_folder = True, no_fault = True):\n",
    "    if output_folder:\n",
    "        createDirectory(output_path, current_path) # create output folder inside curret directory\n",
    "    if no_fault:\n",
    "        createDirectory('NoFault', current_path+ '/' +output_path) # create no fault folder inside curret directory\n",
    "\n",
    "    # create faults folders inside output folder\n",
    "    for fault in faults_list:\n",
    "        createDirectory(fault, current_path +'/' + output_path)\n",
    "        # create intensity folders inside output folder\n",
    "        for item in intensity_list:\n",
    "            createDirectory(item, current_path +'/' + output_path + '/' + fault)\n",
    "\n",
    "def specifyImageName(iteration, fault_type, fault_intensity = '', ext = '.jpg'):\n",
    "    if fault_type != 'NoFault':\n",
    "        return str(iteration) + seperator + fault_type + seperator + fault_intensity + ext\n",
    "    else:\n",
    "        return str(iteration) + seperator + fault_type + ext\n",
    "\n",
    "def saveImage(path, image_name, image):\n",
    "    im_rgb = cv2.cvtColor(asarray(image), cv2.COLOR_BGR2RGB)\n",
    "    cv2.imwrite(os.path.join(path, image_name), im_rgb)\n",
    "    \n",
    "def saveAllFaults(source_path, new_size = (224, 224, 3)):\n",
    "    i = 0\n",
    "    bl = Blur()\n",
    "    r = Rain()\n",
    "    sn = SpeckleNoise()\n",
    "    nf = NoFault()\n",
    "    list_of_faults = [bl,r,sn,nf]\n",
    "    \n",
    "    countImagesInFolder(path = source_path)\n",
    "    \n",
    "    createFolders(faults, intensity, output_folder = True, no_fault = True)\n",
    "    # load all images one by one\n",
    "    for samp in glob.glob(source_path + '/*.'+ext):\n",
    "        sample = Image.open(samp)\n",
    "        for j in intensity:\n",
    "            for faultObject in list_of_faults:\n",
    "                if faultObject.fault_type != 'NoFault':\n",
    "                    faultObject.intensity = j\n",
    "                    faulty_image = faultObject.inject(sample)\n",
    "                    if faulty_image.size != new_size:\n",
    "                        faulty_image = faulty_image.resize((224, 224))\n",
    "                    image_name = specifyImageName(i, faultObject.fault_type, faultObject.intensity)\n",
    "                    path = current_path +'/' + output_path +'/'+faultObject.fault_type+'/' +j+'/'\n",
    "                    saveImage(path, image_name, faulty_image)\n",
    "                else:\n",
    "                    # No Fault\n",
    "                    path = current_path + '/' + output_path + '/' +faultObject.fault_type + '/'\n",
    "                    image_name = specifyImageName(i, faultObject.fault_type)\n",
    "                    if faulty_image.size != new_size:\n",
    "                        sample = sample.resize((224, 224))\n",
    "                    saveImage(path, image_name, sample)\n",
    "                        \n",
    "        # indication to number of samples\n",
    "        if i % 100 == 0:\n",
    "            pass#print(f'{i}  Samples saved', )\n",
    "        i = i + 1\n",
    "    print('Done saving', i,'Samples in the path', current_path + '/' + output_path)\n",
    "    \n",
    "def labelingfolder(fault_item, intensity_item, path):\n",
    "    labels = [] # emty list to add labels information and path to data before saving it as csv file\n",
    "    for path_file in glob.glob(path + '/*' + ext):   # iterate through all files\n",
    "        f_path = path_file\n",
    "        sep_name = path_file[len(path):-4].split('_ ') # split the file path to extract file name without extension\n",
    "        nameFragment = sep_name[0].split('_')\n",
    "        c_path = current_path +'/' + output_path + '/NoFault/' + nameFragment[0] + '_NoFault.jpg' # link file to the other clean no fault file with the similar iteration in name\n",
    "        c_path = c_path.replace(\"\\\\\", \"/\")\n",
    "        f_path = f_path.replace(\"\\\\\", \"/\")\n",
    "        c_path = c_path.replace(\"//\", \"/\")\n",
    "        f_path = f_path.replace(\"//\", \"/\")\n",
    "        labels.append([nameFragment[0],nameFragment[1],nameFragment[2],c_path,f_path]) # add information to list\n",
    "    # after iterate through all the data, now we generate the csv file\n",
    "    pd.DataFrame()\n",
    "    df = pd.DataFrame(labels)\n",
    "    df.columns = fields\n",
    "    df.head()\n",
    "    df.to_csv(current_path + '/' +  output_path + '/' + fault_item + '/' + fault_item +'_'+intensity_item+\"_label.csv\", index=False)\n",
    "    # print a message that file generated successfully\n",
    "    print(fault_item+'_'+intensity_item+\"_label.csv\"+ \" CSV file have been successfully saved\")\n",
    "    \n",
    "def generateLabels():\n",
    "    for fault in faults:\n",
    "        for intensity_item in intensity:\n",
    "            labelingfolder(fault, intensity_item, path = current_path + '/' +  output_path + '/' + fault + '/' + intensity_item + '/')"
   ]
  },
  {
   "cell_type": "code",
   "execution_count": 10,
   "id": "41bfd642",
   "metadata": {},
   "outputs": [
    {
     "name": "stdout",
     "output_type": "stream",
     "text": [
      "found  600 file(s) with the extenstion \".jpg\" \n",
      "\n",
      "The new directory /Dataset is created!\n",
      "The new directory NoFault is created!\n",
      "The new directory Blur is created!\n",
      "The new directory l is created!\n",
      "The new directory m is created!\n",
      "The new directory e is created!\n",
      "The new directory Rain is created!\n",
      "The new directory l is created!\n",
      "The new directory m is created!\n",
      "The new directory e is created!\n",
      "The new directory SpeckleNoise is created!\n",
      "The new directory l is created!\n",
      "The new directory m is created!\n",
      "The new directory e is created!\n",
      "Done saving 600 Samples in the path e:\\transfer from uni//Dataset\n"
     ]
    }
   ],
   "source": [
    "saveAllFaults(source_path)"
   ]
  },
  {
   "cell_type": "code",
   "execution_count": 20,
   "id": "d753ec86",
   "metadata": {},
   "outputs": [
    {
     "name": "stdout",
     "output_type": "stream",
     "text": [
      "\n",
      "Generating the csv labels file:\n"
     ]
    }
   ],
   "source": [
    "print('\\nGenerating the csv labels file:')"
   ]
  },
  {
   "cell_type": "code",
   "execution_count": 21,
   "id": "92f6e199",
   "metadata": {},
   "outputs": [
    {
     "name": "stdout",
     "output_type": "stream",
     "text": [
      "Blur_l_label.csv CSV file have been successfully saved\n",
      "Blur_m_label.csv CSV file have been successfully saved\n",
      "Blur_e_label.csv CSV file have been successfully saved\n",
      "Rain_l_label.csv CSV file have been successfully saved\n",
      "Rain_m_label.csv CSV file have been successfully saved\n",
      "Rain_e_label.csv CSV file have been successfully saved\n",
      "SpeckleNoise_l_label.csv CSV file have been successfully saved\n",
      "SpeckleNoise_m_label.csv CSV file have been successfully saved\n",
      "SpeckleNoise_e_label.csv CSV file have been successfully saved\n"
     ]
    }
   ],
   "source": [
    "generateLabels()"
   ]
  },
  {
   "cell_type": "markdown",
   "id": "a97a450c",
   "metadata": {},
   "source": [
    "## Do not excute its only for explaining"
   ]
  },
  {
   "cell_type": "code",
   "execution_count": 7,
   "id": "f10c5d38",
   "metadata": {},
   "outputs": [
    {
     "name": "stdout",
     "output_type": "stream",
     "text": [
      "Blur_l_label.csv CSV file have been successfully saved\n"
     ]
    }
   ],
   "source": [
    "labelingfolder('Blur', 'l', path = current_path + '/' +  output_path + '/' + 'Blur' + '/' + 'l' + '/')"
   ]
  },
  {
   "cell_type": "code",
   "execution_count": 8,
   "id": "aca96fcf",
   "metadata": {},
   "outputs": [],
   "source": [
    "def generateLabels():\n",
    "    for fault in faults:\n",
    "        for intensity_item in intensity:\n",
    "            labelingfolder(fault, intensity_item, path = current_path + '/' +  output_path + '/' + fault + '/' + intensity_item + '/')"
   ]
  },
  {
   "cell_type": "markdown",
   "id": "cc8ba173",
   "metadata": {},
   "source": [
    "# Info about FaultClass:\n",
    "description to FaultClass.py code implementation\n",
    "### fault intensity:\n",
    "<code>&nbsp;'l': low&nbsp;</code>\n",
    "<code>&nbsp;'m': medium&nbsp;</code>\n",
    "<code>&nbsp;'e': extreme&nbsp;</code>\n",
    "### fault types:\n",
    "<code>&nbsp;Blur&nbsp;</code>\n",
    "<code>&nbsp;Brightness&nbsp;</code>\n",
    "<code>&nbsp;Dark&nbsp;</code>\n",
    "<code>&nbsp;Specklenoise&nbsp;</code>\n",
    "<code>&nbsp;Rain&nbsp;</code>\n",
    "### generate fault with the constructors:\n",
    "\n",
    "&emsp;&emsp;&emsp;&emsp;<code><b><big>Low Intensity</big></b></code>&emsp;&emsp;&emsp;&emsp;&emsp;&ensp;<code><b><big>Medium Intensity</big></b></code>&emsp;&emsp;&emsp;&emsp;<code><b><big>Extreme Intensity</big></b></code><br>\n",
    "\n",
    "&emsp;&emsp;&emsp;&emsp;<code>1.Blur('l')</code>&emsp;&emsp;&emsp;&emsp;&emsp;&emsp;&emsp;&emsp;&ensp;<code>Blur('m')</code>&emsp;&emsp;&emsp;&emsp;&emsp;&emsp;&emsp;&emsp;&emsp;&emsp;<code>Blur('e')</code><br>\n",
    "\n",
    "&emsp;&emsp;&emsp;&emsp;<code>2. Brightness('l')</code>&emsp;&emsp;&emsp;&emsp;&ensp;<code>Brightness('m')</code>&emsp;&emsp;&emsp;&emsp;&emsp;&emsp;&emsp;<code>Brightness('e')</code><br>\n",
    "\n",
    "\n",
    "&emsp;&emsp;&emsp;&emsp;<code>3. Dark('l')</code>&emsp;&emsp;&emsp;&emsp;&emsp;&emsp;&emsp;&emsp;<code>Dark('m')</code>&emsp;&emsp;&emsp;&emsp;&emsp;&emsp;&emsp;&emsp;&emsp;&emsp;<code>Dark('e')</code><br>\n",
    "\n",
    "\n",
    "&emsp;&emsp;&emsp;&emsp;<code>4. Rain('l')</code>&emsp;&emsp;&emsp;&emsp;&emsp;&emsp;&emsp;&emsp;<code>Rain('m')</code>&emsp;&emsp;&emsp;&emsp;&emsp;&emsp;&emsp;&emsp;&emsp;&emsp;<code>Rain('e')</code><br>\n",
    "\n",
    "\n",
    "&emsp;&emsp;&emsp;&emsp;<code>5. SpeckleNoise('l')</code>&emsp;&emsp;&emsp;&ensp;<code>SpeckleNoise('m')</code>&emsp;&emsp;&emsp;&emsp;&emsp;&ensp;<code>SpeckleNoise('e')</code><br>\n",
    "\n",
    "### Examples:\n",
    "#### Rain:\n",
    "    rain_fault = Rain('m')   # create instance of rain fault with intensity medium\n",
    "    faulty_image = rain_fault.inject(clean_image) # generate the faulty image with the function inject\n",
    "    \n",
    "#### Speckle Noise:\n",
    "    noise_fault = SpeckleNoise('e')   # create instance of rain fault with intensity extreme\n",
    "    faulty_image = noise_fault.inject(clean_image) # generate the faulty image with the function inject"
   ]
  }
 ],
 "metadata": {
  "kernelspec": {
   "display_name": "Python 3 (ipykernel)",
   "language": "python",
   "name": "python3"
  },
  "language_info": {
   "codemirror_mode": {
    "name": "ipython",
    "version": 3
   },
   "file_extension": ".py",
   "mimetype": "text/x-python",
   "name": "python",
   "nbconvert_exporter": "python",
   "pygments_lexer": "ipython3",
   "version": "3.8.16"
  }
 },
 "nbformat": 4,
 "nbformat_minor": 5
}
